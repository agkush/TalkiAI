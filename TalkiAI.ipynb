{
  "nbformat": 4,
  "nbformat_minor": 0,
  "metadata": {
    "colab": {
      "provenance": [],
      "gpuType": "T4",
      "authorship_tag": "ABX9TyOsscmOlOa6OPvOJHEJTAJo",
      "include_colab_link": true
    },
    "kernelspec": {
      "name": "python3",
      "display_name": "Python 3"
    },
    "language_info": {
      "name": "python"
    },
    "accelerator": "GPU"
  },
  "cells": [
    {
      "cell_type": "markdown",
      "metadata": {
        "id": "view-in-github",
        "colab_type": "text"
      },
      "source": [
        "<a href=\"https://colab.research.google.com/github/agkush/TalkiAI/blob/main/TalkiAI.ipynb\" target=\"_parent\"><img src=\"https://colab.research.google.com/assets/colab-badge.svg\" alt=\"Open In Colab\"/></a>"
      ]
    },
    {
      "cell_type": "markdown",
      "source": [
        "**Installation**"
      ],
      "metadata": {
        "id": "kfCevz6NCign"
      }
    },
    {
      "cell_type": "code",
      "execution_count": 1,
      "metadata": {
        "colab": {
          "base_uri": "https://localhost:8080/"
        },
        "id": "PbEUDqlvB_j6",
        "outputId": "280ea1da-612c-42d0-d40b-d3d40d06c93e"
      },
      "outputs": [
        {
          "output_type": "stream",
          "name": "stdout",
          "text": [
            "  Installing build dependencies ... \u001b[?25l\u001b[?25hdone\n",
            "  Getting requirements to build wheel ... \u001b[?25l\u001b[?25hdone\n",
            "  Preparing metadata (pyproject.toml) ... \u001b[?25l\u001b[?25hdone\n",
            "\u001b[2K     \u001b[90m━━━━━━━━━━━━━━━━━━━━━━━━━━━━━━━━━━━━━━━━\u001b[0m \u001b[32m1.7/1.7 MB\u001b[0m \u001b[31m12.9 MB/s\u001b[0m eta \u001b[36m0:00:00\u001b[0m\n",
            "\u001b[?25h  Building wheel for openai-whisper (pyproject.toml) ... \u001b[?25l\u001b[?25hdone\n",
            "\u001b[2K     \u001b[90m━━━━━━━━━━━━━━━━━━━━━━━━━━━━━━━━━━━━━━━━\u001b[0m \u001b[32m19.7/19.7 MB\u001b[0m \u001b[31m71.7 MB/s\u001b[0m eta \u001b[36m0:00:00\u001b[0m\n",
            "\u001b[2K     \u001b[90m━━━━━━━━━━━━━━━━━━━━━━━━━━━━━━━━━━━━━━━━\u001b[0m \u001b[32m58.2/58.2 kB\u001b[0m \u001b[31m6.7 MB/s\u001b[0m eta \u001b[36m0:00:00\u001b[0m\n",
            "\u001b[?25h  Preparing metadata (setup.py) ... \u001b[?25l\u001b[?25hdone\n",
            "\u001b[2K     \u001b[90m━━━━━━━━━━━━━━━━━━━━━━━━━━━━━━━━━━━━━━\u001b[0m \u001b[32m288.4/288.4 kB\u001b[0m \u001b[31m31.0 MB/s\u001b[0m eta \u001b[36m0:00:00\u001b[0m\n",
            "\u001b[2K     \u001b[90m━━━━━━━━━━━━━━━━━━━━━━━━━━━━━━━━━━━━━━━━\u001b[0m \u001b[32m75.4/75.4 kB\u001b[0m \u001b[31m8.8 MB/s\u001b[0m eta \u001b[36m0:00:00\u001b[0m\n",
            "\u001b[2K     \u001b[90m━━━━━━━━━━━━━━━━━━━━━━━━━━━━━━━━━━━━━━\u001b[0m \u001b[32m236.8/236.8 kB\u001b[0m \u001b[31m26.3 MB/s\u001b[0m eta \u001b[36m0:00:00\u001b[0m\n",
            "\u001b[2K     \u001b[90m━━━━━━━━━━━━━━━━━━━━━━━━━━━━━━━━━━━━━━━━\u001b[0m \u001b[32m50.5/50.5 kB\u001b[0m \u001b[31m5.8 MB/s\u001b[0m eta \u001b[36m0:00:00\u001b[0m\n",
            "\u001b[2K     \u001b[90m━━━━━━━━━━━━━━━━━━━━━━━━━━━━━━━━━━━━━━\u001b[0m \u001b[32m137.0/137.0 kB\u001b[0m \u001b[31m15.1 MB/s\u001b[0m eta \u001b[36m0:00:00\u001b[0m\n",
            "\u001b[2K     \u001b[90m━━━━━━━━━━━━━━━━━━━━━━━━━━━━━━━━━━━━━━━━\u001b[0m \u001b[32m45.7/45.7 kB\u001b[0m \u001b[31m5.8 MB/s\u001b[0m eta \u001b[36m0:00:00\u001b[0m\n",
            "\u001b[2K     \u001b[90m━━━━━━━━━━━━━━━━━━━━━━━━━━━━━━━━━━━━━━━━\u001b[0m \u001b[32m58.3/58.3 kB\u001b[0m \u001b[31m6.9 MB/s\u001b[0m eta \u001b[36m0:00:00\u001b[0m\n",
            "\u001b[2K     \u001b[90m━━━━━━━━━━━━━━━━━━━━━━━━━━━━━━━━━━━━━━\u001b[0m \u001b[32m129.9/129.9 kB\u001b[0m \u001b[31m16.2 MB/s\u001b[0m eta \u001b[36m0:00:00\u001b[0m\n",
            "\u001b[2K     \u001b[90m━━━━━━━━━━━━━━━━━━━━━━━━━━━━━━━━━━━━━━━━\u001b[0m \u001b[32m50.4/50.4 kB\u001b[0m \u001b[31m6.5 MB/s\u001b[0m eta \u001b[36m0:00:00\u001b[0m\n",
            "\u001b[2K     \u001b[90m━━━━━━━━━━━━━━━━━━━━━━━━━━━━━━━━━━━━━━━━\u001b[0m \u001b[32m46.5/46.5 kB\u001b[0m \u001b[31m5.7 MB/s\u001b[0m eta \u001b[36m0:00:00\u001b[0m\n",
            "\u001b[2K     \u001b[90m━━━━━━━━━━━━━━━━━━━━━━━━━━━━━━━━━━━━━━━━\u001b[0m \u001b[32m43.7/43.7 kB\u001b[0m \u001b[31m5.4 MB/s\u001b[0m eta \u001b[36m0:00:00\u001b[0m\n",
            "\u001b[2K     \u001b[90m━━━━━━━━━━━━━━━━━━━━━━━━━━━━━━━━━━━━━━━━\u001b[0m \u001b[32m41.0/41.0 kB\u001b[0m \u001b[31m4.6 MB/s\u001b[0m eta \u001b[36m0:00:00\u001b[0m\n",
            "\u001b[2K     \u001b[90m━━━━━━━━━━━━━━━━━━━━━━━━━━━━━━━━━━━━━━━━\u001b[0m \u001b[32m41.0/41.0 kB\u001b[0m \u001b[31m4.9 MB/s\u001b[0m eta \u001b[36m0:00:00\u001b[0m\n",
            "\u001b[2K     \u001b[90m━━━━━━━━━━━━━━━━━━━━━━━━━━━━━━━━━━━━━━━━\u001b[0m \u001b[32m87.5/87.5 kB\u001b[0m \u001b[31m10.5 MB/s\u001b[0m eta \u001b[36m0:00:00\u001b[0m\n",
            "\u001b[2K     \u001b[90m━━━━━━━━━━━━━━━━━━━━━━━━━━━━━━━━━━━━━━━━\u001b[0m \u001b[32m84.5/84.5 kB\u001b[0m \u001b[31m10.3 MB/s\u001b[0m eta \u001b[36m0:00:00\u001b[0m\n",
            "\u001b[2K     \u001b[90m━━━━━━━━━━━━━━━━━━━━━━━━━━━━━━━━━━━━━━━━\u001b[0m \u001b[32m58.3/58.3 kB\u001b[0m \u001b[31m7.4 MB/s\u001b[0m eta \u001b[36m0:00:00\u001b[0m\n",
            "\u001b[2K     \u001b[90m━━━━━━━━━━━━━━━━━━━━━━━━━━━━━━━━━━━━━━━━\u001b[0m \u001b[32m67.0/67.0 kB\u001b[0m \u001b[31m8.6 MB/s\u001b[0m eta \u001b[36m0:00:00\u001b[0m\n",
            "\u001b[2K     \u001b[90m━━━━━━━━━━━━━━━━━━━━━━━━━━━━━━━━━━━━━━━━\u001b[0m \u001b[32m72.5/72.5 kB\u001b[0m \u001b[31m8.6 MB/s\u001b[0m eta \u001b[36m0:00:00\u001b[0m\n",
            "\u001b[?25h  Building wheel for ffmpy (setup.py) ... \u001b[?25l\u001b[?25hdone\n",
            "\u001b[2K     \u001b[90m━━━━━━━━━━━━━━━━━━━━━━━━━━━━━━━━━━━━━━━━\u001b[0m \u001b[32m62.1/62.1 kB\u001b[0m \u001b[31m3.0 MB/s\u001b[0m eta \u001b[36m0:00:00\u001b[0m\n",
            "\u001b[?25h  Preparing metadata (setup.py) ... \u001b[?25l\u001b[?25hdone\n",
            "\u001b[2K     \u001b[90m━━━━━━━━━━━━━━━━━━━━━━━━━━━━━━━━━━━━━━━━\u001b[0m \u001b[32m6.7/6.7 MB\u001b[0m \u001b[31m59.8 MB/s\u001b[0m eta \u001b[36m0:00:00\u001b[0m\n",
            "\u001b[2K     \u001b[90m━━━━━━━━━━━━━━━━━━━━━━━━━━━━━━━━━━━━━━\u001b[0m \u001b[32m384.9/384.9 kB\u001b[0m \u001b[31m31.0 MB/s\u001b[0m eta \u001b[36m0:00:00\u001b[0m\n",
            "\u001b[?25h  Building wheel for undetected-chromedriver (setup.py) ... \u001b[?25l\u001b[?25hdone\n"
          ]
        }
      ],
      "source": [
        "!pip install -q git+https://github.com/openai/whisper.git\n",
        "!pip install -q gradio\n",
        "!pip install -q pyChatGPT"
      ]
    },
    {
      "cell_type": "markdown",
      "source": [
        "**Imports**"
      ],
      "metadata": {
        "id": "w5TCeit8Djkn"
      }
    },
    {
      "cell_type": "code",
      "source": [
        "import whisper\n",
        "import gradio as gr\n",
        "import time\n",
        "from pyChatGPT import ChatGPT\n",
        "import warnings"
      ],
      "metadata": {
        "id": "aYqGzUsqDo0w",
        "outputId": "01fa14fb-532d-4444-ff55-1bc482fb8370",
        "colab": {
          "base_uri": "https://localhost:8080/"
        }
      },
      "execution_count": 2,
      "outputs": [
        {
          "output_type": "stream",
          "name": "stderr",
          "text": [
            "/usr/local/lib/python3.10/dist-packages/trio/_core/_multierror.py:406: RuntimeWarning: IPython detected, but you already have a custom exception handler installed. I'll skip installing Trio's custom handler, but this means exception groups will not show full tracebacks.\n",
            "  warnings.warn(\n"
          ]
        }
      ]
    },
    {
      "cell_type": "markdown",
      "source": [
        "Defining **Variables**"
      ],
      "metadata": {
        "id": "UqLPPp2GHF6M"
      }
    },
    {
      "cell_type": "code",
      "source": [
        "warnings.filterwarnings(\"ignore\")"
      ],
      "metadata": {
        "id": "82t3wdiVHN5f"
      },
      "execution_count": 3,
      "outputs": []
    },
    {
      "cell_type": "code",
      "source": [
        "secret_token = \"eyJhbGciOiJkaXIiLCJlbmMiOiJBMjU2R0NNIn0..RI-EPxlVMP-lqwSE.w7jF8bpuboo5wFegzEZLbbvHblBv4QVgdtzTt2xLALljrYphXlQvh36E434HySSoMd0mnUGkcDmCkzqSSOI9E7fWa3Y3j36UyH0e7tGDdvllT7HiSYyiraPPY3CyX4XuezR2mlMiBGlwfNzX-yhd6hHmY3kaOXNvLaWBP0nSzba53BHHBLtsbr-KILF00LKy_1qQKtJL1Q9ijU1szOj9sLu1Pv99moeilgj6IZ-8v2zJpJNLxJkHhgdgqPA4nvY8IKf7-3UV9PohZFGZaAGG6Tham0QlcuvaT3ukKbQnb1oGVOm5vpEw2AMHBZ6pT1JWwoq-XWtadPzDjkztcvSOdmq7Cqr2KZ4c2wvorfyw4YmVi7ZHLe294inZWLxpXYVAcEdSVuA94EYIJma6iSQf5ARfCQXQgunNNV83zVcXYDHMOjc3IJUzllLwQyEJGdz63XtP_UCE_mvxwxL0IIrTUYrV9K9a7Nm5xE1PIPfOkHY5nAH5g-4o1_DYz40TkuWKZ-52TkdZaOe2t02FvV1NO0Ls6BswxP44KshiJNRbafOf14jI69UD2ecBf7UeZ1OUH0GevZ6zSDHWl1Sw-CeQRGyRafiOnm9mHWjYkU7R5SfprbA1oQIzNyHxDGAb9JxOtpel--UXuu3SLQMEueuJP2IJEqfIPGjpFWQ15WZEkdBc2Edp2H1OsNUl0RA2poNat1k-CrHRpMX7YVFcdnR33hO4V9tq3IEzxbKp_FHqeP_CzPzRsNynT5FznUU2r-8c4Uj0_oBeuznnr1iFPQCdGWi5y_LaPYhW6BEt_Mvorvvk3GpU4NJDolpn4ZaBeSNp6rWripAWeNZiawAkOUw5pO34jl1Ld2e16JJABn0zCzG3ZnEKTcEDZA-6CFotJq6m8bsYw9pEh0xaMxBg7O_Q8RGAH-1Z9J67no8inGqTz2Ap9r41vWuLU13tr6bTmYzMsheA1RlH70gio99a3W2j1K2WvopEZjdgOQXSAVgwct46yeL4qgq0WOrEgdaNBSh9bGmDgINXRpbzjH92Ih6c2PbL9P6f8AsU84I9Sm2GX9Tm0zUT-L6P7nEdiIXZq-0KNW5LbOjrvYxy5HCoEjGV9ZPRwLo_wA9g685TVfK89mMivwSVB9RvzlwwQini5NQrXIatU9Zvchv-6WAGxvimEtkjOJVvHCM25om9ly1lKmckR8rqDjuJ_gD3TO-yz6wEGKCplwJPwFwwocRB1hk_WaB2LhbFSDggAsc9inzNN3M4e9E21D_9vZ5rC0SB3hf2QsirZLMDCmJ5ezp5El8RcPrSYY6JJggKmqjiWra_mYNa-e9nxV1ENMMsjrAK7Q2dAIv5LIFcyGMjkaY9YV_ObWntlu4GAU6-7-yVbzdXz71jjnDdAaWVXZ6abEv8xfefaeI6P0nUkjPt1O1-jKFKPvUFv__7h-RcnUWRW9XQrSs9oIVIUzPY48oX8E7l3k0wWzba1SCgd62A8HdXJQm7YlfBHBXWj3pFUjkdweeiwiYSYzMshxvTGm0U3OiJ87w0OLlZRMO6JJH9orPg1I5CgWafFcRkLVNiJBIu2cRKazX6LiDB_x3QQMKvwp9KKnElHjxq5OH1tIa8alBsoH-4bLBdxt5YJwm0Ehc1SUTA4MsZmCdWbhpAomIoIntCE7ITcD9MHIXq2AQlk7yUvf2SiTl6868u7f0yNrYMM_VbWrtYhqg0XLF8XzfkV0w3PfjxVqxAYLPnuGiL8Ik-jeSEvD2gXUxc6w7gaBuA2UwRIR2lWDvPPTiQUMo4roa62erLajMtCMnggF6kAkBwJYdHx-foA7cQ0fVdo_7mNaTRLabRtRNZ4QPHboatdF613pWN-QkBo9Lg2pP1G3JftbbGPL2AaRaP9V1VaPoXV5I4n3Sz8cxB2UCMSeI2N-egPAdg1lk_0Cdlj7OnAUdLf7IAnIvhcRiMn6ILV5dfY5eS6sRLaFq8reTuaFgGxxcCWYGV6dfSdVmNVJr__eZ5WHHk8xFIpBcUGLtiypRF6mkmMWb05ZlbMh1Gqgvgu2lnelVVtDn__-xYFrDKYFj_zUvjCzM5FC2lImmxPBvu5TEoD-5pjxvlgYMkhUsIvDM9RiDSq2qss8BhLGP8CnwuVSAc-Awo8K5uO3AFH_o5uEbT1WtLvUWaTN1puDrxingTme3R2p7rUWxSUWDb5Kq-GAAJUuJxVo_tUswLtwJXhXS7z5Zur4YXh5AEZBNNbE0TvOw0HdoVuPMHHKae6bm2Q5ssQxFVkE_gmIMUUkOfDIYqft20vEaANyMErkScvLrAp_7jAnkJ9pa2RgFWtYtvg7y19l6vq0qNi3_RYuYSyIaXq1jtg35gCNP2aEBGDutYaD1pw8O-0Vr5cgSUi0aW8zQEqWcqW0kFCCDyXbzQ2BBet2SDB5ri6t3g0GXorvP1fbeALMldwlS02fyBpo05KWapQ8LCunVXkwewX-YTI1P63QMYDYddNeehMIdoaVZVURODd0yx4zkQxWjAt19Ijarek_Wl5yqVNq54zocW1bE0DbJ7lmRgY3RabrzCBCmKvJjaAvX0wHfQZd8P4gj7ByFfe34MXA9MB5DCL71y9n6Ar6TiTasiJ8Q2kL4pS49fgUyjyKr92e62-WSWXT4B5vsvdzwSODZZwLhM-J32jbDoXPIKDLuT-hdRx8sTihKeIA.3uw15jetjbdinlU-g9d1TA\""
      ],
      "metadata": {
        "id": "6-_FfPdLHX5U"
      },
      "execution_count": 4,
      "outputs": []
    },
    {
      "cell_type": "code",
      "source": [
        "model = whisper.load_model(\"base\")"
      ],
      "metadata": {
        "id": "kgbBWKWIHgi0",
        "outputId": "41d5a82d-bfc6-4073-ea7e-280d4d7e66fe",
        "colab": {
          "base_uri": "https://localhost:8080/"
        }
      },
      "execution_count": 5,
      "outputs": [
        {
          "output_type": "stream",
          "name": "stderr",
          "text": [
            "100%|████████████████████████████████████████| 139M/139M [00:00<00:00, 179MiB/s]\n"
          ]
        }
      ]
    },
    {
      "cell_type": "code",
      "source": [
        "model.device"
      ],
      "metadata": {
        "colab": {
          "base_uri": "https://localhost:8080/"
        },
        "id": "CzVkTOMsHsN8",
        "outputId": "d27cd2a8-5a84-46c2-be93-f533aa8cac09"
      },
      "execution_count": 6,
      "outputs": [
        {
          "output_type": "execute_result",
          "data": {
            "text/plain": [
              "device(type='cuda', index=0)"
            ]
          },
          "metadata": {},
          "execution_count": 6
        }
      ]
    },
    {
      "cell_type": "markdown",
      "source": [
        "**Transcribe**"
      ],
      "metadata": {
        "id": "4r0aMGOTIFZi"
      }
    },
    {
      "cell_type": "code",
      "source": [
        "def transcribe(audio):\n",
        "  # load audio and pad or trim it to 30 seconds\n",
        "  audio = whisper.load_audio(audio)\n",
        "  audio = whisper.pad_or_trim(audio)\n",
        "\n",
        "  # make log-Mel spectrogram and move to the same device as a model\n",
        "  mel = whisper.log_mel_spectrogram(audio).to(model.device)\n",
        "\n",
        "  # detect the spoken language\n",
        "  _, probs = model.detect_language(mel)\n",
        "\n",
        "  # decode the audio\n",
        "  options = whisper.DecodingOptions()\n",
        "  result = whisper.decode(model,mel,options)\n",
        "  result_text = result.text\n",
        "\n",
        "  # pass the genetated text to audio\n",
        "  chatgpt_api = ChatGPT(secret_token)\n",
        "  resp = chatgpt_api.send_message(result_text)\n",
        "  out_result = resp['message']\n",
        "\n",
        "  return [result_text, out_result]"
      ],
      "metadata": {
        "id": "_7I8zuhXIJ_t"
      },
      "execution_count": 7,
      "outputs": []
    },
    {
      "cell_type": "markdown",
      "source": [
        "Gradio **Interface**"
      ],
      "metadata": {
        "id": "8lMLamUtRlqZ"
      }
    },
    {
      "cell_type": "code",
      "source": [
        "output_1 = gr.Textbox(label=\"Speech to Text\")\n",
        "output_2 = gr.Textbox(label=\"ChatGPT Output\")\n",
        "\n",
        "gr.Interface(\n",
        "    title = 'OpenAI Whisper and ChatGPT ASR Gradio Web UI',\n",
        "    fn=transcribe,\n",
        "    inputs=[\n",
        "        gr.inputs.Audio(source=\"microphone\", type=\"filepath\"),\n",
        "    ],\n",
        "\n",
        "    outputs=[\n",
        "        output_1, output_2\n",
        "    ],\n",
        "    live=True).launch()"
      ],
      "metadata": {
        "colab": {
          "base_uri": "https://localhost:8080/",
          "height": 616
        },
        "id": "eFw5R-mHRonK",
        "outputId": "5b661848-c524-4fdd-e6bc-cdac71170b88"
      },
      "execution_count": 8,
      "outputs": [
        {
          "output_type": "stream",
          "name": "stdout",
          "text": [
            "Colab notebook detected. To show errors in colab notebook, set debug=True in launch()\n",
            "Note: opening Chrome Inspector may crash demo inside Colab notebooks.\n",
            "\n",
            "To create a public link, set `share=True` in `launch()`.\n"
          ]
        },
        {
          "output_type": "display_data",
          "data": {
            "text/plain": [
              "<IPython.core.display.Javascript object>"
            ],
            "application/javascript": [
              "(async (port, path, width, height, cache, element) => {\n",
              "                        if (!google.colab.kernel.accessAllowed && !cache) {\n",
              "                            return;\n",
              "                        }\n",
              "                        element.appendChild(document.createTextNode(''));\n",
              "                        const url = await google.colab.kernel.proxyPort(port, {cache});\n",
              "\n",
              "                        const external_link = document.createElement('div');\n",
              "                        external_link.innerHTML = `\n",
              "                            <div style=\"font-family: monospace; margin-bottom: 0.5rem\">\n",
              "                                Running on <a href=${new URL(path, url).toString()} target=\"_blank\">\n",
              "                                    https://localhost:${port}${path}\n",
              "                                </a>\n",
              "                            </div>\n",
              "                        `;\n",
              "                        element.appendChild(external_link);\n",
              "\n",
              "                        const iframe = document.createElement('iframe');\n",
              "                        iframe.src = new URL(path, url).toString();\n",
              "                        iframe.height = height;\n",
              "                        iframe.allow = \"autoplay; camera; microphone; clipboard-read; clipboard-write;\"\n",
              "                        iframe.width = width;\n",
              "                        iframe.style.border = 0;\n",
              "                        element.appendChild(iframe);\n",
              "                    })(7860, \"/\", \"100%\", 500, false, window.element)"
            ]
          },
          "metadata": {}
        },
        {
          "output_type": "execute_result",
          "data": {
            "text/plain": []
          },
          "metadata": {},
          "execution_count": 8
        }
      ]
    }
  ]
}